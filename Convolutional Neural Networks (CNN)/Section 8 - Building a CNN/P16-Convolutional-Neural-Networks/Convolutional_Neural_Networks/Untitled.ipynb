{
 "cells": [
  {
   "cell_type": "code",
   "execution_count": 44,
   "metadata": {},
   "outputs": [],
   "source": [
    "from tensorflow.keras.models import Sequential\n",
    "from tensorflow.keras.layers import Conv2D,MaxPooling2D,Flatten,Dense\n",
    "from tensorflow.keras.preprocessing.image import ImageDataGenerator"
   ]
  },
  {
   "cell_type": "code",
   "execution_count": 45,
   "metadata": {},
   "outputs": [
    {
     "data": {
      "text/plain": [
       "'\\nStep 1 : Convolution\\nStep 2 : Max Pooling\\nStep 3 : Flattening\\nStep 4 : Full Connection\\n'"
      ]
     },
     "execution_count": 45,
     "metadata": {},
     "output_type": "execute_result"
    }
   ],
   "source": [
    "#initializing the CNN\n",
    "classifier = Sequential()\n",
    "'''\n",
    "Step 1 : Convolution\n",
    "Step 2 : Max Pooling\n",
    "Step 3 : Flattening\n",
    "Step 4 : Full Connection\n",
    "'''\n"
   ]
  },
  {
   "cell_type": "code",
   "execution_count": 46,
   "metadata": {},
   "outputs": [],
   "source": [
    "# Step 1 : Convolution\n",
    "classifier.add(Conv2D(32,3,3,input_shape=(64,64,3),activation = 'relu'))"
   ]
  },
  {
   "cell_type": "code",
   "execution_count": 47,
   "metadata": {},
   "outputs": [],
   "source": [
    "# Step 2 : Max Pooling\n",
    "classifier.add(MaxPooling2D(pool_size=(2,2)))"
   ]
  },
  {
   "cell_type": "code",
   "execution_count": 48,
   "metadata": {},
   "outputs": [],
   "source": [
    "# Step 3 : Flattening\n",
    "classifier.add(Flatten())"
   ]
  },
  {
   "cell_type": "code",
   "execution_count": 49,
   "metadata": {},
   "outputs": [],
   "source": [
    "# Step 4 : Full Connection\n",
    "classifier.add(Dense(128,activation='relu'))\n",
    "classifier.add(Dense(1,activation='sigmoid'))"
   ]
  },
  {
   "cell_type": "code",
   "execution_count": 50,
   "metadata": {},
   "outputs": [],
   "source": [
    "classifier.compile(optimizer = 'adam' , loss = 'binary_crossentropy',metrics = ['accuracy'])"
   ]
  },
  {
   "cell_type": "code",
   "execution_count": 52,
   "metadata": {},
   "outputs": [],
   "source": [
    "\n"
   ]
  },
  {
   "cell_type": "code",
   "execution_count": 54,
   "metadata": {},
   "outputs": [],
   "source": [
    "train_datagen = ImageDataGenerator( rescale=1./255,q\n",
    "                                    shear_range=0.2,\n",
    "                                    zoom_range=0.2,\n",
    "                                    horizontal_flip=True)"
   ]
  },
  {
   "cell_type": "code",
   "execution_count": 56,
   "metadata": {},
   "outputs": [],
   "source": [
    "\n",
    "test_datagen = ImageDataGenerator(rescale=1./255)\n"
   ]
  },
  {
   "cell_type": "code",
   "execution_count": 61,
   "metadata": {},
   "outputs": [
    {
     "name": "stdout",
     "output_type": "stream",
     "text": [
      "Found 8000 images belonging to 2 classes.\n"
     ]
    }
   ],
   "source": [
    "training_set = train_datagen.flow_from_directory('./dataset/training_set/',\n",
    "                                                target_size=(64, 64),\n",
    "                                                batch_size=32,\n",
    "                                                class_mode='binary')"
   ]
  },
  {
   "cell_type": "code",
   "execution_count": 62,
   "metadata": {},
   "outputs": [
    {
     "name": "stdout",
     "output_type": "stream",
     "text": [
      "Found 2000 images belonging to 2 classes.\n"
     ]
    }
   ],
   "source": [
    "test_set = test_datagen.flow_from_directory('./dataset/test_set/',\n",
    "                                            target_size=(64, 64),\n",
    "                                            batch_size=32,\n",
    "                                            class_mode='binary')"
   ]
  },
  {
   "cell_type": "code",
   "execution_count": 67,
   "metadata": {},
   "outputs": [
    {
     "name": "stdout",
     "output_type": "stream",
     "text": [
      "WARNING:tensorflow:sample_weight modes were coerced from\n",
      "  ...\n",
      "    to  \n",
      "  ['...']\n",
      "WARNING:tensorflow:sample_weight modes were coerced from\n",
      "  ...\n",
      "    to  \n",
      "  ['...']\n",
      "Train for 250 steps, validate for 62 steps\n",
      "Epoch 1/25\n",
      "250/250 [==============================] - 22s 90ms/step - loss: 1040153.3319 - accuracy: 0.5000 - val_loss: 771164.8042 - val_accuracy: 0.4990\n",
      "Epoch 2/25\n",
      "250/250 [==============================] - 24s 94ms/step - loss: 589711.7813 - accuracy: 0.5000 - val_loss: 445870.6522 - val_accuracy: 0.4990\n",
      "Epoch 3/25\n",
      "250/250 [==============================] - 23s 93ms/step - loss: 345275.3954 - accuracy: 0.5000 - val_loss: 264184.1474 - val_accuracy: 0.4990\n",
      "Epoch 4/25\n",
      "250/250 [==============================] - 23s 91ms/step - loss: 206022.6626 - accuracy: 0.5000 - val_loss: 158451.4376 - val_accuracy: 0.4990\n",
      "Epoch 5/25\n",
      "250/250 [==============================] - 23s 90ms/step - loss: 124061.7924 - accuracy: 0.5000 - val_loss: 95876.2442 - val_accuracy: 0.4990\n",
      "Epoch 6/25\n",
      "250/250 [==============================] - 23s 91ms/step - loss: 74952.4088 - accuracy: 0.5000 - val_loss: 57985.7940 - val_accuracy: 0.4990\n",
      "Epoch 7/25\n",
      "250/250 [==============================] - 23s 91ms/step - loss: 45125.1146 - accuracy: 0.5000 - val_loss: 34595.5944 - val_accuracy: 0.4990\n",
      "Epoch 8/25\n",
      "250/250 [==============================] - 23s 91ms/step - loss: 26694.3937 - accuracy: 0.5000 - val_loss: 20120.5300 - val_accuracy: 0.4990\n",
      "Epoch 9/25\n",
      "250/250 [==============================] - 23s 91ms/step - loss: 15217.1622 - accuracy: 0.5000 - val_loss: 11078.0652 - val_accuracy: 0.4990\n",
      "Epoch 10/25\n",
      "250/250 [==============================] - 23s 91ms/step - loss: 7951.1135 - accuracy: 0.5000 - val_loss: 5273.8433 - val_accuracy: 0.4990\n",
      "Epoch 11/25\n",
      "250/250 [==============================] - 23s 92ms/step - loss: 3356.3177 - accuracy: 0.5000 - val_loss: 1972.3428 - val_accuracy: 0.4990\n",
      "Epoch 12/25\n",
      "250/250 [==============================] - 23s 91ms/step - loss: 1243.1474 - accuracy: 0.5000 - val_loss: 756.0781 - val_accuracy: 0.4990\n",
      "Epoch 13/25\n",
      "250/250 [==============================] - 23s 92ms/step - loss: 504.0165 - accuracy: 0.5000 - val_loss: 301.3417 - val_accuracy: 0.4990\n",
      "Epoch 14/25\n",
      "250/250 [==============================] - 23s 92ms/step - loss: 190.7981 - accuracy: 0.5000 - val_loss: 109.3018 - val_accuracy: 0.4990\n",
      "Epoch 15/25\n",
      "250/250 [==============================] - 23s 92ms/step - loss: 53.3706 - accuracy: 0.5000 - val_loss: 11.9152 - val_accuracy: 0.4990\n",
      "Epoch 16/25\n",
      "250/250 [==============================] - 23s 92ms/step - loss: 2.0893 - accuracy: 0.5369 - val_loss: 0.7429 - val_accuracy: 0.5650\n",
      "Epoch 17/25\n",
      "250/250 [==============================] - 23s 92ms/step - loss: 0.7286 - accuracy: 0.5519 - val_loss: 0.7237 - val_accuracy: 0.5635\n",
      "Epoch 18/25\n",
      "250/250 [==============================] - 23s 92ms/step - loss: 0.7178 - accuracy: 0.5604 - val_loss: 0.7190 - val_accuracy: 0.5630\n",
      "Epoch 19/25\n",
      "250/250 [==============================] - 23s 92ms/step - loss: 0.7126 - accuracy: 0.5545 - val_loss: 0.7198 - val_accuracy: 0.5575\n",
      "Epoch 20/25\n",
      "250/250 [==============================] - 23s 92ms/step - loss: 0.7097 - accuracy: 0.5600 - val_loss: 0.7096 - val_accuracy: 0.5680\n",
      "Epoch 21/25\n",
      "250/250 [==============================] - 23s 92ms/step - loss: 0.7069 - accuracy: 0.5594 - val_loss: 0.7088 - val_accuracy: 0.5625\n",
      "Epoch 22/25\n",
      "250/250 [==============================] - 23s 92ms/step - loss: 0.7047 - accuracy: 0.5573 - val_loss: 0.7073 - val_accuracy: 0.5575\n",
      "Epoch 23/25\n",
      "250/250 [==============================] - 23s 92ms/step - loss: 0.7040 - accuracy: 0.5587 - val_loss: 0.7096 - val_accuracy: 0.5615\n",
      "Epoch 24/25\n",
      "250/250 [==============================] - 23s 92ms/step - loss: 0.7025 - accuracy: 0.5589 - val_loss: 0.7162 - val_accuracy: 0.5559\n",
      "Epoch 25/25\n",
      "250/250 [==============================] - 23s 92ms/step - loss: 0.7008 - accuracy: 0.5539 - val_loss: 0.7144 - val_accuracy: 0.5534\n"
     ]
    },
    {
     "data": {
      "text/plain": [
       "<tensorflow.python.keras.callbacks.History at 0x7f0e605d9198>"
      ]
     },
     "execution_count": 67,
     "metadata": {},
     "output_type": "execute_result"
    }
   ],
   "source": [
    "classifier.fit_generator(training_set,\n",
    "                    steps_per_epoch=(int)(8000/32),\n",
    "                    epochs=25,\n",
    "                    validation_data=test_set,\n",
    "                    validation_steps=(int)(2000/32))"
   ]
  },
  {
   "cell_type": "code",
   "execution_count": null,
   "metadata": {},
   "outputs": [],
   "source": []
  }
 ],
 "metadata": {
  "kernelspec": {
   "display_name": "Python 3",
   "language": "python",
   "name": "python3"
  },
  "language_info": {
   "codemirror_mode": {
    "name": "ipython",
    "version": 3
   },
   "file_extension": ".py",
   "mimetype": "text/x-python",
   "name": "python",
   "nbconvert_exporter": "python",
   "pygments_lexer": "ipython3",
   "version": "3.7.3"
  }
 },
 "nbformat": 4,
 "nbformat_minor": 2
}
