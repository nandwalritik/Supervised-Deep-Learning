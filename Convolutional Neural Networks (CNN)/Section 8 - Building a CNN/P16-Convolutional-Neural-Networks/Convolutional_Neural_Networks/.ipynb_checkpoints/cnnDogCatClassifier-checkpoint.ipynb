{
 "cells": [
  {
   "cell_type": "code",
   "execution_count": 1,
   "metadata": {},
   "outputs": [],
   "source": [
    "from tensorflow.keras.models import Sequential\n",
    "from tensorflow.keras.layers import Conv2D,MaxPooling2D,Flatten,Dense\n",
    "from tensorflow.keras.preprocessing.image import ImageDataGenerator"
   ]
  },
  {
   "cell_type": "code",
   "execution_count": 2,
   "metadata": {},
   "outputs": [
    {
     "data": {
      "text/plain": [
       "'\\nStep 1 : Convolution\\nStep 2 : Max Pooling\\nStep 3 : Flattening\\nStep 4 : Full Connection\\n'"
      ]
     },
     "execution_count": 2,
     "metadata": {},
     "output_type": "execute_result"
    }
   ],
   "source": [
    "#initializing the CNN\n",
    "classifier = Sequential()\n",
    "'''\n",
    "Step 1 : Convolution\n",
    "Step 2 : Max Pooling\n",
    "Step 3 : Flattening\n",
    "Step 4 : Full Connection\n",
    "'''\n"
   ]
  },
  {
   "cell_type": "code",
   "execution_count": 3,
   "metadata": {},
   "outputs": [],
   "source": [
    "# Step 1 : Convolution\n",
    "classifier.add(Conv2D(32,3,3,input_shape=(128,128,3),activation = 'relu'))\n"
   ]
  },
  {
   "cell_type": "code",
   "execution_count": 4,
   "metadata": {},
   "outputs": [],
   "source": [
    "# Step 2 : Max Pooling\n",
    "classifier.add(MaxPooling2D(pool_size=(2,2)))"
   ]
  },
  {
   "cell_type": "code",
   "execution_count": 5,
   "metadata": {},
   "outputs": [],
   "source": [
    "# Adding second convolutional layer\n",
    "classifier.add(Conv2D(32,3,3,activation = 'relu'))"
   ]
  },
  {
   "cell_type": "code",
   "execution_count": 6,
   "metadata": {},
   "outputs": [],
   "source": [
    "classifier.add(MaxPooling2D(pool_size=(2,2)))"
   ]
  },
  {
   "cell_type": "code",
   "execution_count": 7,
   "metadata": {},
   "outputs": [],
   "source": [
    "# Step 3 : Flattening\n",
    "classifier.add(Flatten())"
   ]
  },
  {
   "cell_type": "code",
   "execution_count": 8,
   "metadata": {},
   "outputs": [],
   "source": [
    "# Step 4 : Full Connection\n",
    "classifier.add(Dense(128,activation='relu'))\n",
    "classifier.add(Dense(1,activation='sigmoid'))"
   ]
  },
  {
   "cell_type": "code",
   "execution_count": 9,
   "metadata": {},
   "outputs": [],
   "source": [
    "classifier.compile(optimizer = 'adam' , loss = 'binary_crossentropy',metrics = ['accuracy'])"
   ]
  },
  {
   "cell_type": "code",
   "execution_count": 10,
   "metadata": {},
   "outputs": [],
   "source": [
    "train_datagen = ImageDataGenerator( rescale=1./255,\n",
    "                                    shear_range=0.2,\n",
    "                                    zoom_range=0.2,\n",
    "                                    horizontal_flip=True)"
   ]
  },
  {
   "cell_type": "code",
   "execution_count": 11,
   "metadata": {},
   "outputs": [],
   "source": [
    "\n",
    "test_datagen = ImageDataGenerator(rescale=1./255)\n"
   ]
  },
  {
   "cell_type": "code",
   "execution_count": 12,
   "metadata": {},
   "outputs": [
    {
     "name": "stdout",
     "output_type": "stream",
     "text": [
      "Found 8000 images belonging to 2 classes.\n"
     ]
    }
   ],
   "source": [
    "training_set = train_datagen.flow_from_directory('./dataset/training_set/',\n",
    "                                                target_size=(128, 128),\n",
    "                                                batch_size=32,\n",
    "                                                class_mode='binary')"
   ]
  },
  {
   "cell_type": "code",
   "execution_count": 13,
   "metadata": {},
   "outputs": [
    {
     "name": "stdout",
     "output_type": "stream",
     "text": [
      "Found 2000 images belonging to 2 classes.\n"
     ]
    }
   ],
   "source": [
    "test_set = test_datagen.flow_from_directory('./dataset/test_set/',\n",
    "                                            target_size=(128, 128),\n",
    "                                            batch_size=32,\n",
    "                                            class_mode='binary')"
   ]
  },
  {
   "cell_type": "code",
   "execution_count": 14,
   "metadata": {},
   "outputs": [
    {
     "name": "stdout",
     "output_type": "stream",
     "text": [
      "WARNING:tensorflow:From <ipython-input-14-ffa9eb7ab039>:5: Model.fit_generator (from tensorflow.python.keras.engine.training) is deprecated and will be removed in a future version.\n",
      "Instructions for updating:\n",
      "Please use Model.fit, which supports generators.\n",
      "WARNING:tensorflow:sample_weight modes were coerced from\n",
      "  ...\n",
      "    to  \n",
      "  ['...']\n",
      "WARNING:tensorflow:sample_weight modes were coerced from\n",
      "  ...\n",
      "    to  \n",
      "  ['...']\n",
      "Train for 250 steps, validate for 62 steps\n",
      "Epoch 1/25\n",
      "250/250 [==============================] - 164s 657ms/step - loss: 0.6863 - accuracy: 0.5424 - val_loss: 0.6565 - val_accuracy: 0.6104\n",
      "Epoch 2/25\n",
      "250/250 [==============================] - 48s 191ms/step - loss: 0.6367 - accuracy: 0.6453 - val_loss: 0.6189 - val_accuracy: 0.6497\n",
      "Epoch 3/25\n",
      "250/250 [==============================] - 47s 189ms/step - loss: 0.6016 - accuracy: 0.6762 - val_loss: 0.5699 - val_accuracy: 0.7082\n",
      "Epoch 4/25\n",
      "250/250 [==============================] - 47s 190ms/step - loss: 0.5650 - accuracy: 0.7078 - val_loss: 0.5639 - val_accuracy: 0.7182\n",
      "Epoch 5/25\n",
      "250/250 [==============================] - 47s 187ms/step - loss: 0.5480 - accuracy: 0.7190 - val_loss: 0.5492 - val_accuracy: 0.7263\n",
      "Epoch 6/25\n",
      "250/250 [==============================] - 41s 163ms/step - loss: 0.5352 - accuracy: 0.7287 - val_loss: 0.5309 - val_accuracy: 0.7384\n",
      "Epoch 7/25\n",
      "250/250 [==============================] - 37s 148ms/step - loss: 0.5275 - accuracy: 0.7335 - val_loss: 0.5380 - val_accuracy: 0.7308\n",
      "Epoch 8/25\n",
      "250/250 [==============================] - 38s 150ms/step - loss: 0.5106 - accuracy: 0.7498 - val_loss: 0.5159 - val_accuracy: 0.7485\n",
      "Epoch 9/25\n",
      "250/250 [==============================] - 41s 166ms/step - loss: 0.5107 - accuracy: 0.7386 - val_loss: 0.5364 - val_accuracy: 0.7263\n",
      "Epoch 10/25\n",
      "250/250 [==============================] - 41s 162ms/step - loss: 0.4986 - accuracy: 0.7530 - val_loss: 0.5043 - val_accuracy: 0.7510\n",
      "Epoch 11/25\n",
      "250/250 [==============================] - 41s 164ms/step - loss: 0.4908 - accuracy: 0.7650 - val_loss: 0.4929 - val_accuracy: 0.7681\n",
      "Epoch 12/25\n",
      "250/250 [==============================] - 39s 156ms/step - loss: 0.4826 - accuracy: 0.7632 - val_loss: 0.5418 - val_accuracy: 0.7303\n",
      "Epoch 13/25\n",
      "250/250 [==============================] - 49s 195ms/step - loss: 0.4814 - accuracy: 0.7670 - val_loss: 0.5041 - val_accuracy: 0.7566\n",
      "Epoch 14/25\n",
      "250/250 [==============================] - 50s 201ms/step - loss: 0.4754 - accuracy: 0.7719 - val_loss: 0.4893 - val_accuracy: 0.7651\n",
      "Epoch 15/25\n",
      "250/250 [==============================] - 42s 167ms/step - loss: 0.4713 - accuracy: 0.7744 - val_loss: 0.4852 - val_accuracy: 0.7697\n",
      "Epoch 16/25\n",
      "250/250 [==============================] - 40s 160ms/step - loss: 0.4650 - accuracy: 0.7730 - val_loss: 0.4773 - val_accuracy: 0.7777\n",
      "Epoch 17/25\n",
      "250/250 [==============================] - 38s 154ms/step - loss: 0.4556 - accuracy: 0.7844 - val_loss: 0.4706 - val_accuracy: 0.7742\n",
      "Epoch 18/25\n",
      "250/250 [==============================] - 40s 158ms/step - loss: 0.4516 - accuracy: 0.7861 - val_loss: 0.4707 - val_accuracy: 0.7812\n",
      "Epoch 19/25\n",
      "250/250 [==============================] - 38s 150ms/step - loss: 0.4497 - accuracy: 0.7847 - val_loss: 0.4952 - val_accuracy: 0.7611\n",
      "Epoch 20/25\n",
      "250/250 [==============================] - 40s 159ms/step - loss: 0.4453 - accuracy: 0.7919 - val_loss: 0.5064 - val_accuracy: 0.7571\n",
      "Epoch 21/25\n",
      "250/250 [==============================] - 39s 156ms/step - loss: 0.4405 - accuracy: 0.7915 - val_loss: 0.4613 - val_accuracy: 0.7787\n",
      "Epoch 22/25\n",
      "250/250 [==============================] - 39s 158ms/step - loss: 0.4371 - accuracy: 0.7943 - val_loss: 0.4537 - val_accuracy: 0.7893\n",
      "Epoch 23/25\n",
      "250/250 [==============================] - 38s 151ms/step - loss: 0.4362 - accuracy: 0.7943 - val_loss: 0.4865 - val_accuracy: 0.7636\n",
      "Epoch 24/25\n",
      "250/250 [==============================] - 39s 155ms/step - loss: 0.4201 - accuracy: 0.8012 - val_loss: 0.4475 - val_accuracy: 0.7903\n",
      "Epoch 25/25\n",
      "250/250 [==============================] - 40s 158ms/step - loss: 0.4249 - accuracy: 0.8014 - val_loss: 0.4608 - val_accuracy: 0.7923\n"
     ]
    },
    {
     "data": {
      "text/plain": [
       "<tensorflow.python.keras.callbacks.History at 0x7f828c4d54a8>"
      ]
     },
     "execution_count": 14,
     "metadata": {},
     "output_type": "execute_result"
    }
   ],
   "source": [
    "classifier.fit_generator(training_set,\n",
    "                    steps_per_epoch=(int)(8000/32),\n",
    "                    epochs=25,\n",
    "                    validation_data=test_set,\n",
    "                    validation_steps=(int)(2000/32))"
   ]
  },
  {
   "cell_type": "code",
   "execution_count": 25,
   "metadata": {},
   "outputs": [],
   "source": [
    "# Making single prediction\n",
    "import numpy as np\n",
    "from tensorflow.keras.preprocessing import image  "
   ]
  },
  {
   "cell_type": "code",
   "execution_count": 76,
   "metadata": {},
   "outputs": [
    {
     "name": "stdout",
     "output_type": "stream",
     "text": [
      "<PIL.Image.Image image mode=RGB size=128x128 at 0x7F81FC5064E0>\n"
     ]
    },
    {
     "data": {
      "text/plain": [
       "{'cats': 0, 'dogs': 1}"
      ]
     },
     "execution_count": 76,
     "metadata": {},
     "output_type": "execute_result"
    }
   ],
   "source": [
    "test_image   = image.load_img('dataset/single_prediction/cat.4048.jpg',target_size=(128,128))\n",
    "\n",
    "test_image   = image.img_to_array(test_image)\n",
    "test_image = np.expand_dims(test_image,axis = 0)\n",
    "result = classifier.predict(test_image)\n",
    "training_set.class_indices    "
   ]
  },
  {
   "cell_type": "code",
   "execution_count": 75,
   "metadata": {
    "scrolled": true
   },
   "outputs": [
    {
     "name": "stdout",
     "output_type": "stream",
     "text": [
      "Cat\n"
     ]
    }
   ],
   "source": [
    "#print(type(result),np.shape(result),int(result[0][0]))\n",
    "if int(result[0][0]) == 1:\n",
    "    print('Doggy')\n",
    "else:\n",
    "    print('Cat')"
   ]
  }
 ],
 "metadata": {
  "kernelspec": {
   "display_name": "Python 3",
   "language": "python",
   "name": "python3"
  },
  "language_info": {
   "codemirror_mode": {
    "name": "ipython",
    "version": 3
   },
   "file_extension": ".py",
   "mimetype": "text/x-python",
   "name": "python",
   "nbconvert_exporter": "python",
   "pygments_lexer": "ipython3",
   "version": "3.7.3"
  }
 },
 "nbformat": 4,
 "nbformat_minor": 2
}
